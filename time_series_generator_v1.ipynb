{
  "nbformat": 4,
  "nbformat_minor": 0,
  "metadata": {
    "colab": {
      "name": "time series generator -v1.ipynb",
      "provenance": [],
      "authorship_tag": "ABX9TyM1MvBD/BxgRb3uP5pXd5A4",
      "include_colab_link": true
    },
    "kernelspec": {
      "name": "python3",
      "display_name": "Python 3"
    },
    "language_info": {
      "name": "python"
    }
  },
  "cells": [
    {
      "cell_type": "markdown",
      "metadata": {
        "id": "view-in-github",
        "colab_type": "text"
      },
      "source": [
        "<a href=\"https://colab.research.google.com/github/ciepielajan/Time_series/blob/main/time_series_generator_v1.ipynb\" target=\"_parent\"><img src=\"https://colab.research.google.com/assets/colab-badge.svg\" alt=\"Open In Colab\"/></a>"
      ]
    },
    {
      "cell_type": "markdown",
      "metadata": {
        "id": "zMSGqXoVwKGD"
      },
      "source": [
        "CEL: \\\n",
        "Utworzenie DF  dla tygodniowych okresów (7 dniowych) w którym pierwsze 6 dni będzie X a  ostatni dzień (siódmy) y. "
      ]
    },
    {
      "cell_type": "code",
      "metadata": {
        "id": "1LDVFj5gm56i"
      },
      "source": [
        "import numpy as np\n",
        "import pandas as pd"
      ],
      "execution_count": 1,
      "outputs": []
    },
    {
      "cell_type": "markdown",
      "metadata": {
        "id": "FL8SVynjvzRC"
      },
      "source": [
        "wygenerowanie losowych danych (cena per dzień) dla całego roku "
      ]
    },
    {
      "cell_type": "code",
      "metadata": {
        "colab": {
          "base_uri": "https://localhost:8080/",
          "height": 158
        },
        "id": "fAAJ6FXkm7WM",
        "outputId": "6034672b-c93c-41f9-8287-55ac2e9c08ef"
      },
      "source": [
        "time = pd.date_range(start=\"2021-01-1\", end=\"2021-12-31\", freq=\"1D\")\n",
        "data = np.random.randint(5,30,size=(365,1))\n",
        "\n",
        "df = pd.DataFrame(data, index=time, columns=[\"price\"])\n",
        "print(df.shape)\n",
        "df[:3]"
      ],
      "execution_count": 18,
      "outputs": [
        {
          "output_type": "stream",
          "text": [
            "(365, 1)\n"
          ],
          "name": "stdout"
        },
        {
          "output_type": "execute_result",
          "data": {
            "text/html": [
              "<div>\n",
              "<style scoped>\n",
              "    .dataframe tbody tr th:only-of-type {\n",
              "        vertical-align: middle;\n",
              "    }\n",
              "\n",
              "    .dataframe tbody tr th {\n",
              "        vertical-align: top;\n",
              "    }\n",
              "\n",
              "    .dataframe thead th {\n",
              "        text-align: right;\n",
              "    }\n",
              "</style>\n",
              "<table border=\"1\" class=\"dataframe\">\n",
              "  <thead>\n",
              "    <tr style=\"text-align: right;\">\n",
              "      <th></th>\n",
              "      <th>price</th>\n",
              "    </tr>\n",
              "  </thead>\n",
              "  <tbody>\n",
              "    <tr>\n",
              "      <th>2021-01-01</th>\n",
              "      <td>6</td>\n",
              "    </tr>\n",
              "    <tr>\n",
              "      <th>2021-01-02</th>\n",
              "      <td>26</td>\n",
              "    </tr>\n",
              "    <tr>\n",
              "      <th>2021-01-03</th>\n",
              "      <td>10</td>\n",
              "    </tr>\n",
              "  </tbody>\n",
              "</table>\n",
              "</div>"
            ],
            "text/plain": [
              "            price\n",
              "2021-01-01      6\n",
              "2021-01-02     26\n",
              "2021-01-03     10"
            ]
          },
          "metadata": {
            "tags": []
          },
          "execution_count": 18
        }
      ]
    },
    {
      "cell_type": "markdown",
      "metadata": {
        "id": "t_V9HQ5vsw2M"
      },
      "source": [
        "obliczam ilośc pełnych tygodni (7 dni) i ustalam ile wartości od końca trzeba usunąć aby pozbyć się ostatniego niepełnego tygodnia"
      ]
    },
    {
      "cell_type": "code",
      "metadata": {
        "colab": {
          "base_uri": "https://localhost:8080/"
        },
        "id": "7dx99j_Ur4Rt",
        "outputId": "a73866d5-c7d0-4df5-ffa9-d7c069d45264"
      },
      "source": [
        "full_weeks = int(len(df) / 7 ) * 7\n",
        "\n",
        "df = df[:full_weeks]\n",
        "df.shape"
      ],
      "execution_count": 28,
      "outputs": [
        {
          "output_type": "execute_result",
          "data": {
            "text/plain": [
              "(364, 1)"
            ]
          },
          "metadata": {
            "tags": []
          },
          "execution_count": 28
        }
      ]
    },
    {
      "cell_type": "code",
      "metadata": {
        "colab": {
          "base_uri": "https://localhost:8080/",
          "height": 202
        },
        "id": "jTmEPA0LollJ",
        "outputId": "ff9917b3-cbd7-4274-f2ad-592675b0d15f"
      },
      "source": [
        "weeks = df.groupby(pd.Grouper(freq=\"7D\"))\n",
        "\n",
        "df_weeks = pd.DataFrame()\n",
        "\n",
        "for week in weeks:\n",
        "  week = week[1].T\n",
        "  week.columns = [1,2,3,4,5,6,7]\n",
        "  df_weeks = df_weeks.append(week)\n",
        "\n",
        "df_weeks[:5]"
      ],
      "execution_count": 29,
      "outputs": [
        {
          "output_type": "execute_result",
          "data": {
            "text/html": [
              "<div>\n",
              "<style scoped>\n",
              "    .dataframe tbody tr th:only-of-type {\n",
              "        vertical-align: middle;\n",
              "    }\n",
              "\n",
              "    .dataframe tbody tr th {\n",
              "        vertical-align: top;\n",
              "    }\n",
              "\n",
              "    .dataframe thead th {\n",
              "        text-align: right;\n",
              "    }\n",
              "</style>\n",
              "<table border=\"1\" class=\"dataframe\">\n",
              "  <thead>\n",
              "    <tr style=\"text-align: right;\">\n",
              "      <th></th>\n",
              "      <th>1</th>\n",
              "      <th>2</th>\n",
              "      <th>3</th>\n",
              "      <th>4</th>\n",
              "      <th>5</th>\n",
              "      <th>6</th>\n",
              "      <th>7</th>\n",
              "    </tr>\n",
              "  </thead>\n",
              "  <tbody>\n",
              "    <tr>\n",
              "      <th>price</th>\n",
              "      <td>6</td>\n",
              "      <td>26</td>\n",
              "      <td>10</td>\n",
              "      <td>14</td>\n",
              "      <td>23</td>\n",
              "      <td>5</td>\n",
              "      <td>12</td>\n",
              "    </tr>\n",
              "    <tr>\n",
              "      <th>price</th>\n",
              "      <td>20</td>\n",
              "      <td>14</td>\n",
              "      <td>12</td>\n",
              "      <td>24</td>\n",
              "      <td>22</td>\n",
              "      <td>25</td>\n",
              "      <td>17</td>\n",
              "    </tr>\n",
              "    <tr>\n",
              "      <th>price</th>\n",
              "      <td>23</td>\n",
              "      <td>9</td>\n",
              "      <td>19</td>\n",
              "      <td>25</td>\n",
              "      <td>22</td>\n",
              "      <td>20</td>\n",
              "      <td>22</td>\n",
              "    </tr>\n",
              "    <tr>\n",
              "      <th>price</th>\n",
              "      <td>28</td>\n",
              "      <td>20</td>\n",
              "      <td>25</td>\n",
              "      <td>25</td>\n",
              "      <td>13</td>\n",
              "      <td>25</td>\n",
              "      <td>20</td>\n",
              "    </tr>\n",
              "    <tr>\n",
              "      <th>price</th>\n",
              "      <td>14</td>\n",
              "      <td>6</td>\n",
              "      <td>17</td>\n",
              "      <td>5</td>\n",
              "      <td>11</td>\n",
              "      <td>24</td>\n",
              "      <td>19</td>\n",
              "    </tr>\n",
              "  </tbody>\n",
              "</table>\n",
              "</div>"
            ],
            "text/plain": [
              "        1   2   3   4   5   6   7\n",
              "price   6  26  10  14  23   5  12\n",
              "price  20  14  12  24  22  25  17\n",
              "price  23   9  19  25  22  20  22\n",
              "price  28  20  25  25  13  25  20\n",
              "price  14   6  17   5  11  24  19"
            ]
          },
          "metadata": {
            "tags": []
          },
          "execution_count": 29
        }
      ]
    },
    {
      "cell_type": "markdown",
      "metadata": {
        "id": "A7p6eEAnvC1p"
      },
      "source": [
        "zresetowanie indexu"
      ]
    },
    {
      "cell_type": "code",
      "metadata": {
        "colab": {
          "base_uri": "https://localhost:8080/",
          "height": 141
        },
        "id": "io54Scu9uvDq",
        "outputId": "31adab03-5c0e-49fb-cfd1-931147b3358d"
      },
      "source": [
        "df_weeks.reset_index(drop=True, inplace=True)\n",
        "df_weeks[:3]"
      ],
      "execution_count": 30,
      "outputs": [
        {
          "output_type": "execute_result",
          "data": {
            "text/html": [
              "<div>\n",
              "<style scoped>\n",
              "    .dataframe tbody tr th:only-of-type {\n",
              "        vertical-align: middle;\n",
              "    }\n",
              "\n",
              "    .dataframe tbody tr th {\n",
              "        vertical-align: top;\n",
              "    }\n",
              "\n",
              "    .dataframe thead th {\n",
              "        text-align: right;\n",
              "    }\n",
              "</style>\n",
              "<table border=\"1\" class=\"dataframe\">\n",
              "  <thead>\n",
              "    <tr style=\"text-align: right;\">\n",
              "      <th></th>\n",
              "      <th>1</th>\n",
              "      <th>2</th>\n",
              "      <th>3</th>\n",
              "      <th>4</th>\n",
              "      <th>5</th>\n",
              "      <th>6</th>\n",
              "      <th>7</th>\n",
              "    </tr>\n",
              "  </thead>\n",
              "  <tbody>\n",
              "    <tr>\n",
              "      <th>0</th>\n",
              "      <td>6</td>\n",
              "      <td>26</td>\n",
              "      <td>10</td>\n",
              "      <td>14</td>\n",
              "      <td>23</td>\n",
              "      <td>5</td>\n",
              "      <td>12</td>\n",
              "    </tr>\n",
              "    <tr>\n",
              "      <th>1</th>\n",
              "      <td>20</td>\n",
              "      <td>14</td>\n",
              "      <td>12</td>\n",
              "      <td>24</td>\n",
              "      <td>22</td>\n",
              "      <td>25</td>\n",
              "      <td>17</td>\n",
              "    </tr>\n",
              "    <tr>\n",
              "      <th>2</th>\n",
              "      <td>23</td>\n",
              "      <td>9</td>\n",
              "      <td>19</td>\n",
              "      <td>25</td>\n",
              "      <td>22</td>\n",
              "      <td>20</td>\n",
              "      <td>22</td>\n",
              "    </tr>\n",
              "  </tbody>\n",
              "</table>\n",
              "</div>"
            ],
            "text/plain": [
              "    1   2   3   4   5   6   7\n",
              "0   6  26  10  14  23   5  12\n",
              "1  20  14  12  24  22  25  17\n",
              "2  23   9  19  25  22  20  22"
            ]
          },
          "metadata": {
            "tags": []
          },
          "execution_count": 30
        }
      ]
    },
    {
      "cell_type": "markdown",
      "metadata": {
        "id": "PIZJ6ftX11xp"
      },
      "source": [
        "dziele zbior na train i test wg tygodni.  train - 41 tygodni , test 11 tygodni, a później na"
      ]
    },
    {
      "cell_type": "code",
      "metadata": {
        "id": "xIGD9bdc0_6E"
      },
      "source": [
        "df_train = df_weeks.iloc[0:41]\n",
        "df_test = df_weeks.iloc[41:52]"
      ],
      "execution_count": 6,
      "outputs": []
    },
    {
      "cell_type": "code",
      "metadata": {
        "id": "cdPAuOZf642x"
      },
      "source": [
        "X_train, X_test, y_train, y_test = df_train[[1,2,3,4,5,6]], df_test[[1,2,3,4,5,6]], df_train[7], df_test[7]"
      ],
      "execution_count": 34,
      "outputs": []
    },
    {
      "cell_type": "code",
      "metadata": {
        "colab": {
          "base_uri": "https://localhost:8080/"
        },
        "id": "tEf1ITl-2Urk",
        "outputId": "4ddc4041-276d-4cd1-867e-941a876753d0"
      },
      "source": [
        "X_train.shape, y_train.shape"
      ],
      "execution_count": 39,
      "outputs": [
        {
          "output_type": "execute_result",
          "data": {
            "text/plain": [
              "((41, 6), (41,))"
            ]
          },
          "metadata": {
            "tags": []
          },
          "execution_count": 39
        }
      ]
    },
    {
      "cell_type": "code",
      "metadata": {
        "colab": {
          "base_uri": "https://localhost:8080/"
        },
        "id": "rbJptnb1vPit",
        "outputId": "ae08c5e9-a240-45d9-b026-d01d32fa9007"
      },
      "source": [
        "X_test.shape, y_test.shape"
      ],
      "execution_count": 38,
      "outputs": [
        {
          "output_type": "execute_result",
          "data": {
            "text/plain": [
              "((11, 6), (11,))"
            ]
          },
          "metadata": {
            "tags": []
          },
          "execution_count": 38
        }
      ]
    }
  ]
}