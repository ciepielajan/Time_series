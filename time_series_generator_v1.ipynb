{
  "nbformat": 4,
  "nbformat_minor": 0,
  "metadata": {
    "colab": {
      "name": "time series generator -v1.ipynb",
      "provenance": [],
      "authorship_tag": "ABX9TyMdwDYJBLYBVDDaUwPUPyXK",
      "include_colab_link": true
    },
    "kernelspec": {
      "name": "python3",
      "display_name": "Python 3"
    },
    "language_info": {
      "name": "python"
    }
  },
  "cells": [
    {
      "cell_type": "markdown",
      "metadata": {
        "id": "view-in-github",
        "colab_type": "text"
      },
      "source": [
        "<a href=\"https://colab.research.google.com/github/ciepielajan/Time_series/blob/main/time_series_generator_v1.ipynb\" target=\"_parent\"><img src=\"https://colab.research.google.com/assets/colab-badge.svg\" alt=\"Open In Colab\"/></a>"
      ]
    },
    {
      "cell_type": "markdown",
      "metadata": {
        "id": "zMSGqXoVwKGD"
      },
      "source": [
        "CEL: \\\n",
        "Utworzenie DF  dla tygodniowych okresów (7 dniowych) w którym pierwsze 6 dni będzie X a  ostatni dzień (siódmy) y. "
      ]
    },
    {
      "cell_type": "code",
      "metadata": {
        "id": "1LDVFj5gm56i"
      },
      "source": [
        "import numpy as np\n",
        "import pandas as pd"
      ],
      "execution_count": 1,
      "outputs": []
    },
    {
      "cell_type": "markdown",
      "metadata": {
        "id": "FL8SVynjvzRC"
      },
      "source": [
        "wygenerowanie losowych danych (cena per dzień) dla całego roku "
      ]
    },
    {
      "cell_type": "code",
      "metadata": {
        "colab": {
          "base_uri": "https://localhost:8080/",
          "height": 158
        },
        "id": "fAAJ6FXkm7WM",
        "outputId": "1ff746fd-d5a5-4681-cd79-ec6bbd3a08ec"
      },
      "source": [
        "time = pd.date_range(start=\"2021-01-1\", end=\"2021-12-31\", freq=\"1D\")\n",
        "data = np.random.randint(5,30,size=(365,1))\n",
        "\n",
        "df = pd.DataFrame(data, index=time, columns=[\"price\"])\n",
        "print(df.shape)\n",
        "df[:3]"
      ],
      "execution_count": 2,
      "outputs": [
        {
          "output_type": "stream",
          "text": [
            "(365, 1)\n"
          ],
          "name": "stdout"
        },
        {
          "output_type": "execute_result",
          "data": {
            "text/html": [
              "<div>\n",
              "<style scoped>\n",
              "    .dataframe tbody tr th:only-of-type {\n",
              "        vertical-align: middle;\n",
              "    }\n",
              "\n",
              "    .dataframe tbody tr th {\n",
              "        vertical-align: top;\n",
              "    }\n",
              "\n",
              "    .dataframe thead th {\n",
              "        text-align: right;\n",
              "    }\n",
              "</style>\n",
              "<table border=\"1\" class=\"dataframe\">\n",
              "  <thead>\n",
              "    <tr style=\"text-align: right;\">\n",
              "      <th></th>\n",
              "      <th>price</th>\n",
              "    </tr>\n",
              "  </thead>\n",
              "  <tbody>\n",
              "    <tr>\n",
              "      <th>2021-01-01</th>\n",
              "      <td>17</td>\n",
              "    </tr>\n",
              "    <tr>\n",
              "      <th>2021-01-02</th>\n",
              "      <td>18</td>\n",
              "    </tr>\n",
              "    <tr>\n",
              "      <th>2021-01-03</th>\n",
              "      <td>14</td>\n",
              "    </tr>\n",
              "  </tbody>\n",
              "</table>\n",
              "</div>"
            ],
            "text/plain": [
              "            price\n",
              "2021-01-01     17\n",
              "2021-01-02     18\n",
              "2021-01-03     14"
            ]
          },
          "metadata": {
            "tags": []
          },
          "execution_count": 2
        }
      ]
    },
    {
      "cell_type": "markdown",
      "metadata": {
        "id": "t_V9HQ5vsw2M"
      },
      "source": [
        "obliczam ilośc pełnych tygodni (7 dni) i ustalam ile wartości od końca trzeba usunąć aby pozbyć się ostatniego niepełnego tygodnia"
      ]
    },
    {
      "cell_type": "code",
      "metadata": {
        "colab": {
          "base_uri": "https://localhost:8080/"
        },
        "id": "7dx99j_Ur4Rt",
        "outputId": "8fd17777-709e-4630-d7bf-b901559cdf34"
      },
      "source": [
        "full_weeks = int(len(df) / 7 ) * 7\n",
        "full_weeks - len(df)\n",
        "\n",
        "df = df[:full_weeks]\n",
        "df.shape"
      ],
      "execution_count": 3,
      "outputs": [
        {
          "output_type": "execute_result",
          "data": {
            "text/plain": [
              "(364, 1)"
            ]
          },
          "metadata": {
            "tags": []
          },
          "execution_count": 3
        }
      ]
    },
    {
      "cell_type": "code",
      "metadata": {
        "colab": {
          "base_uri": "https://localhost:8080/",
          "height": 202
        },
        "id": "jTmEPA0LollJ",
        "outputId": "b026a532-e9fd-40d0-adb6-ac94a630daf4"
      },
      "source": [
        "weeks = df.groupby(pd.Grouper(freq=\"7D\"))\n",
        "\n",
        "df_weeks = pd.DataFrame()\n",
        "\n",
        "for week in weeks:\n",
        "  week = week[1].reset_index().T\n",
        "  week.columns = [1,2,3,4,5,6,7]\n",
        "  df_weeks = df_weeks.append(week)\n",
        "\n",
        "df_weeks[:5]"
      ],
      "execution_count": 4,
      "outputs": [
        {
          "output_type": "execute_result",
          "data": {
            "text/html": [
              "<div>\n",
              "<style scoped>\n",
              "    .dataframe tbody tr th:only-of-type {\n",
              "        vertical-align: middle;\n",
              "    }\n",
              "\n",
              "    .dataframe tbody tr th {\n",
              "        vertical-align: top;\n",
              "    }\n",
              "\n",
              "    .dataframe thead th {\n",
              "        text-align: right;\n",
              "    }\n",
              "</style>\n",
              "<table border=\"1\" class=\"dataframe\">\n",
              "  <thead>\n",
              "    <tr style=\"text-align: right;\">\n",
              "      <th></th>\n",
              "      <th>1</th>\n",
              "      <th>2</th>\n",
              "      <th>3</th>\n",
              "      <th>4</th>\n",
              "      <th>5</th>\n",
              "      <th>6</th>\n",
              "      <th>7</th>\n",
              "    </tr>\n",
              "  </thead>\n",
              "  <tbody>\n",
              "    <tr>\n",
              "      <th>index</th>\n",
              "      <td>2021-01-01 00:00:00</td>\n",
              "      <td>2021-01-02 00:00:00</td>\n",
              "      <td>2021-01-03 00:00:00</td>\n",
              "      <td>2021-01-04 00:00:00</td>\n",
              "      <td>2021-01-05 00:00:00</td>\n",
              "      <td>2021-01-06 00:00:00</td>\n",
              "      <td>2021-01-07 00:00:00</td>\n",
              "    </tr>\n",
              "    <tr>\n",
              "      <th>price</th>\n",
              "      <td>17</td>\n",
              "      <td>18</td>\n",
              "      <td>14</td>\n",
              "      <td>21</td>\n",
              "      <td>8</td>\n",
              "      <td>7</td>\n",
              "      <td>24</td>\n",
              "    </tr>\n",
              "    <tr>\n",
              "      <th>index</th>\n",
              "      <td>2021-01-08 00:00:00</td>\n",
              "      <td>2021-01-09 00:00:00</td>\n",
              "      <td>2021-01-10 00:00:00</td>\n",
              "      <td>2021-01-11 00:00:00</td>\n",
              "      <td>2021-01-12 00:00:00</td>\n",
              "      <td>2021-01-13 00:00:00</td>\n",
              "      <td>2021-01-14 00:00:00</td>\n",
              "    </tr>\n",
              "    <tr>\n",
              "      <th>price</th>\n",
              "      <td>6</td>\n",
              "      <td>25</td>\n",
              "      <td>10</td>\n",
              "      <td>22</td>\n",
              "      <td>22</td>\n",
              "      <td>25</td>\n",
              "      <td>20</td>\n",
              "    </tr>\n",
              "    <tr>\n",
              "      <th>index</th>\n",
              "      <td>2021-01-15 00:00:00</td>\n",
              "      <td>2021-01-16 00:00:00</td>\n",
              "      <td>2021-01-17 00:00:00</td>\n",
              "      <td>2021-01-18 00:00:00</td>\n",
              "      <td>2021-01-19 00:00:00</td>\n",
              "      <td>2021-01-20 00:00:00</td>\n",
              "      <td>2021-01-21 00:00:00</td>\n",
              "    </tr>\n",
              "  </tbody>\n",
              "</table>\n",
              "</div>"
            ],
            "text/plain": [
              "                         1  ...                    7\n",
              "index  2021-01-01 00:00:00  ...  2021-01-07 00:00:00\n",
              "price                   17  ...                   24\n",
              "index  2021-01-08 00:00:00  ...  2021-01-14 00:00:00\n",
              "price                    6  ...                   20\n",
              "index  2021-01-15 00:00:00  ...  2021-01-21 00:00:00\n",
              "\n",
              "[5 rows x 7 columns]"
            ]
          },
          "metadata": {
            "tags": []
          },
          "execution_count": 4
        }
      ]
    },
    {
      "cell_type": "markdown",
      "metadata": {
        "id": "AUcLWnQ-uBrD"
      },
      "source": [
        "podglad wcześniejszych indexów czy transformacja faktycznie dobrze je poukładała"
      ]
    },
    {
      "cell_type": "code",
      "metadata": {
        "colab": {
          "base_uri": "https://localhost:8080/",
          "height": 202
        },
        "id": "CDh717_ttqvO",
        "outputId": "752ca35f-ec09-46aa-c4fc-c3516ad80d20"
      },
      "source": [
        "#podgląd\n",
        "df_weeks.loc[\"index\"][:5]"
      ],
      "execution_count": 5,
      "outputs": [
        {
          "output_type": "execute_result",
          "data": {
            "text/html": [
              "<div>\n",
              "<style scoped>\n",
              "    .dataframe tbody tr th:only-of-type {\n",
              "        vertical-align: middle;\n",
              "    }\n",
              "\n",
              "    .dataframe tbody tr th {\n",
              "        vertical-align: top;\n",
              "    }\n",
              "\n",
              "    .dataframe thead th {\n",
              "        text-align: right;\n",
              "    }\n",
              "</style>\n",
              "<table border=\"1\" class=\"dataframe\">\n",
              "  <thead>\n",
              "    <tr style=\"text-align: right;\">\n",
              "      <th></th>\n",
              "      <th>1</th>\n",
              "      <th>2</th>\n",
              "      <th>3</th>\n",
              "      <th>4</th>\n",
              "      <th>5</th>\n",
              "      <th>6</th>\n",
              "      <th>7</th>\n",
              "    </tr>\n",
              "  </thead>\n",
              "  <tbody>\n",
              "    <tr>\n",
              "      <th>index</th>\n",
              "      <td>2021-01-01 00:00:00</td>\n",
              "      <td>2021-01-02 00:00:00</td>\n",
              "      <td>2021-01-03 00:00:00</td>\n",
              "      <td>2021-01-04 00:00:00</td>\n",
              "      <td>2021-01-05 00:00:00</td>\n",
              "      <td>2021-01-06 00:00:00</td>\n",
              "      <td>2021-01-07 00:00:00</td>\n",
              "    </tr>\n",
              "    <tr>\n",
              "      <th>index</th>\n",
              "      <td>2021-01-08 00:00:00</td>\n",
              "      <td>2021-01-09 00:00:00</td>\n",
              "      <td>2021-01-10 00:00:00</td>\n",
              "      <td>2021-01-11 00:00:00</td>\n",
              "      <td>2021-01-12 00:00:00</td>\n",
              "      <td>2021-01-13 00:00:00</td>\n",
              "      <td>2021-01-14 00:00:00</td>\n",
              "    </tr>\n",
              "    <tr>\n",
              "      <th>index</th>\n",
              "      <td>2021-01-15 00:00:00</td>\n",
              "      <td>2021-01-16 00:00:00</td>\n",
              "      <td>2021-01-17 00:00:00</td>\n",
              "      <td>2021-01-18 00:00:00</td>\n",
              "      <td>2021-01-19 00:00:00</td>\n",
              "      <td>2021-01-20 00:00:00</td>\n",
              "      <td>2021-01-21 00:00:00</td>\n",
              "    </tr>\n",
              "    <tr>\n",
              "      <th>index</th>\n",
              "      <td>2021-01-22 00:00:00</td>\n",
              "      <td>2021-01-23 00:00:00</td>\n",
              "      <td>2021-01-24 00:00:00</td>\n",
              "      <td>2021-01-25 00:00:00</td>\n",
              "      <td>2021-01-26 00:00:00</td>\n",
              "      <td>2021-01-27 00:00:00</td>\n",
              "      <td>2021-01-28 00:00:00</td>\n",
              "    </tr>\n",
              "    <tr>\n",
              "      <th>index</th>\n",
              "      <td>2021-01-29 00:00:00</td>\n",
              "      <td>2021-01-30 00:00:00</td>\n",
              "      <td>2021-01-31 00:00:00</td>\n",
              "      <td>2021-02-01 00:00:00</td>\n",
              "      <td>2021-02-02 00:00:00</td>\n",
              "      <td>2021-02-03 00:00:00</td>\n",
              "      <td>2021-02-04 00:00:00</td>\n",
              "    </tr>\n",
              "  </tbody>\n",
              "</table>\n",
              "</div>"
            ],
            "text/plain": [
              "                         1  ...                    7\n",
              "index  2021-01-01 00:00:00  ...  2021-01-07 00:00:00\n",
              "index  2021-01-08 00:00:00  ...  2021-01-14 00:00:00\n",
              "index  2021-01-15 00:00:00  ...  2021-01-21 00:00:00\n",
              "index  2021-01-22 00:00:00  ...  2021-01-28 00:00:00\n",
              "index  2021-01-29 00:00:00  ...  2021-02-04 00:00:00\n",
              "\n",
              "[5 rows x 7 columns]"
            ]
          },
          "metadata": {
            "tags": []
          },
          "execution_count": 5
        }
      ]
    },
    {
      "cell_type": "markdown",
      "metadata": {
        "id": "i-aZ0MSjuQ9L"
      },
      "source": [
        "usunięcie indeksów z nazwą \"index\""
      ]
    },
    {
      "cell_type": "code",
      "metadata": {
        "colab": {
          "base_uri": "https://localhost:8080/",
          "height": 141
        },
        "id": "xHbHgcVquaR-",
        "outputId": "bdbcdf62-1026-4690-8761-3e660d179649"
      },
      "source": [
        "df_weeks = df_weeks[df_weeks.index != \"index\"]\n",
        "df_weeks[:3]"
      ],
      "execution_count": 6,
      "outputs": [
        {
          "output_type": "execute_result",
          "data": {
            "text/html": [
              "<div>\n",
              "<style scoped>\n",
              "    .dataframe tbody tr th:only-of-type {\n",
              "        vertical-align: middle;\n",
              "    }\n",
              "\n",
              "    .dataframe tbody tr th {\n",
              "        vertical-align: top;\n",
              "    }\n",
              "\n",
              "    .dataframe thead th {\n",
              "        text-align: right;\n",
              "    }\n",
              "</style>\n",
              "<table border=\"1\" class=\"dataframe\">\n",
              "  <thead>\n",
              "    <tr style=\"text-align: right;\">\n",
              "      <th></th>\n",
              "      <th>1</th>\n",
              "      <th>2</th>\n",
              "      <th>3</th>\n",
              "      <th>4</th>\n",
              "      <th>5</th>\n",
              "      <th>6</th>\n",
              "      <th>7</th>\n",
              "    </tr>\n",
              "  </thead>\n",
              "  <tbody>\n",
              "    <tr>\n",
              "      <th>price</th>\n",
              "      <td>17</td>\n",
              "      <td>18</td>\n",
              "      <td>14</td>\n",
              "      <td>21</td>\n",
              "      <td>8</td>\n",
              "      <td>7</td>\n",
              "      <td>24</td>\n",
              "    </tr>\n",
              "    <tr>\n",
              "      <th>price</th>\n",
              "      <td>6</td>\n",
              "      <td>25</td>\n",
              "      <td>10</td>\n",
              "      <td>22</td>\n",
              "      <td>22</td>\n",
              "      <td>25</td>\n",
              "      <td>20</td>\n",
              "    </tr>\n",
              "    <tr>\n",
              "      <th>price</th>\n",
              "      <td>11</td>\n",
              "      <td>10</td>\n",
              "      <td>16</td>\n",
              "      <td>20</td>\n",
              "      <td>10</td>\n",
              "      <td>13</td>\n",
              "      <td>5</td>\n",
              "    </tr>\n",
              "  </tbody>\n",
              "</table>\n",
              "</div>"
            ],
            "text/plain": [
              "        1   2   3   4   5   6   7\n",
              "price  17  18  14  21   8   7  24\n",
              "price   6  25  10  22  22  25  20\n",
              "price  11  10  16  20  10  13   5"
            ]
          },
          "metadata": {
            "tags": []
          },
          "execution_count": 6
        }
      ]
    },
    {
      "cell_type": "markdown",
      "metadata": {
        "id": "A7p6eEAnvC1p"
      },
      "source": [
        "zresetowanie indexu"
      ]
    },
    {
      "cell_type": "code",
      "metadata": {
        "colab": {
          "base_uri": "https://localhost:8080/",
          "height": 141
        },
        "id": "io54Scu9uvDq",
        "outputId": "c5667900-7954-4bc5-a71f-1bc94c8ee2dc"
      },
      "source": [
        "df_weeks.reset_index(drop=True, inplace=True)\n",
        "df_weeks[:3]"
      ],
      "execution_count": 7,
      "outputs": [
        {
          "output_type": "execute_result",
          "data": {
            "text/html": [
              "<div>\n",
              "<style scoped>\n",
              "    .dataframe tbody tr th:only-of-type {\n",
              "        vertical-align: middle;\n",
              "    }\n",
              "\n",
              "    .dataframe tbody tr th {\n",
              "        vertical-align: top;\n",
              "    }\n",
              "\n",
              "    .dataframe thead th {\n",
              "        text-align: right;\n",
              "    }\n",
              "</style>\n",
              "<table border=\"1\" class=\"dataframe\">\n",
              "  <thead>\n",
              "    <tr style=\"text-align: right;\">\n",
              "      <th></th>\n",
              "      <th>1</th>\n",
              "      <th>2</th>\n",
              "      <th>3</th>\n",
              "      <th>4</th>\n",
              "      <th>5</th>\n",
              "      <th>6</th>\n",
              "      <th>7</th>\n",
              "    </tr>\n",
              "  </thead>\n",
              "  <tbody>\n",
              "    <tr>\n",
              "      <th>0</th>\n",
              "      <td>17</td>\n",
              "      <td>18</td>\n",
              "      <td>14</td>\n",
              "      <td>21</td>\n",
              "      <td>8</td>\n",
              "      <td>7</td>\n",
              "      <td>24</td>\n",
              "    </tr>\n",
              "    <tr>\n",
              "      <th>1</th>\n",
              "      <td>6</td>\n",
              "      <td>25</td>\n",
              "      <td>10</td>\n",
              "      <td>22</td>\n",
              "      <td>22</td>\n",
              "      <td>25</td>\n",
              "      <td>20</td>\n",
              "    </tr>\n",
              "    <tr>\n",
              "      <th>2</th>\n",
              "      <td>11</td>\n",
              "      <td>10</td>\n",
              "      <td>16</td>\n",
              "      <td>20</td>\n",
              "      <td>10</td>\n",
              "      <td>13</td>\n",
              "      <td>5</td>\n",
              "    </tr>\n",
              "  </tbody>\n",
              "</table>\n",
              "</div>"
            ],
            "text/plain": [
              "    1   2   3   4   5   6   7\n",
              "0  17  18  14  21   8   7  24\n",
              "1   6  25  10  22  22  25  20\n",
              "2  11  10  16  20  10  13   5"
            ]
          },
          "metadata": {
            "tags": []
          },
          "execution_count": 7
        }
      ]
    },
    {
      "cell_type": "markdown",
      "metadata": {
        "id": "PIZJ6ftX11xp"
      },
      "source": [
        "dziele zbior na train i test wg tygodni.  train - 41 tygodni , test 11 tygodni"
      ]
    },
    {
      "cell_type": "code",
      "metadata": {
        "id": "xIGD9bdc0_6E"
      },
      "source": [
        "df_train = df_weeks.iloc[0:41]\n",
        "df_test = df_weeks.iloc[41:52]"
      ],
      "execution_count": 28,
      "outputs": []
    },
    {
      "cell_type": "code",
      "metadata": {
        "colab": {
          "base_uri": "https://localhost:8080/"
        },
        "id": "tEf1ITl-2Urk",
        "outputId": "9747943d-926b-449e-cef6-d9a51ae6791b"
      },
      "source": [
        "X_train = df_train[[1,2,3,4,5,6]]\n",
        "y_train = df_train[7]\n",
        "\n",
        "X_train.shape, y_train.shape"
      ],
      "execution_count": 29,
      "outputs": [
        {
          "output_type": "execute_result",
          "data": {
            "text/plain": [
              "((41, 6), (41,))"
            ]
          },
          "metadata": {
            "tags": []
          },
          "execution_count": 29
        }
      ]
    },
    {
      "cell_type": "code",
      "metadata": {
        "colab": {
          "base_uri": "https://localhost:8080/"
        },
        "id": "rbJptnb1vPit",
        "outputId": "e3989036-15d1-46e3-a6ba-ef399d763b0e"
      },
      "source": [
        "X_test = df_test[[1,2,3,4,5,6]]\n",
        "y_test = df_test[7]\n",
        "\n",
        "X_test.shape, y_test.shape"
      ],
      "execution_count": 30,
      "outputs": [
        {
          "output_type": "execute_result",
          "data": {
            "text/plain": [
              "((11, 6), (11,))"
            ]
          },
          "metadata": {
            "tags": []
          },
          "execution_count": 30
        }
      ]
    }
  ]
}