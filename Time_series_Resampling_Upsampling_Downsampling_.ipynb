{
  "nbformat": 4,
  "nbformat_minor": 0,
  "metadata": {
    "colab": {
      "name": "Time series Resampling  Upsampling Downsampling .ipynb",
      "provenance": [],
      "toc_visible": true
    },
    "kernelspec": {
      "name": "python3",
      "display_name": "Python 3"
    },
    "language_info": {
      "name": "python"
    }
  },
  "cells": [
    {
      "cell_type": "markdown",
      "metadata": {
        "id": "FwUErKKxvQs_"
      },
      "source": [
        "# 4 Resampling time series\n"
      ]
    },
    {
      "cell_type": "code",
      "metadata": {
        "id": "a6m5N1Q6wd2n"
      },
      "source": [
        "import pandas as pd"
      ],
      "execution_count": 2,
      "outputs": []
    },
    {
      "cell_type": "code",
      "metadata": {
        "id": "r89ZlZ4SwjDh"
      },
      "source": [
        "import warnings\n",
        "warnings.filterwarnings('ignore')"
      ],
      "execution_count": 3,
      "outputs": []
    },
    {
      "cell_type": "code",
      "metadata": {
        "id": "B7BOwSlbvovP"
      },
      "source": [
        "!wget -q \"https://raw.githubusercontent.com/jbrownlee/Datasets/master/shampoo.csv\""
      ],
      "execution_count": 34,
      "outputs": []
    },
    {
      "cell_type": "markdown",
      "metadata": {
        "id": "bbyjodiKvO5R"
      },
      "source": [
        "Czasami nasze obserwacje nie mają odpowiedniej częstotliwości, obserwacje mogą mieć wyższą lub niższą częstotliwość niż nasza pożądana częstotliwość prognozowana. Na przykład firma potrzebuje dziennej prognozy, ale ma obserwacje godzinowe lub miesięczne. W takim scenariuszu zastosowanie dwóch technik może pomóc nam w skorygowaniu częstotliwości zgodnie z celami biznesowymi."
      ]
    },
    {
      "cell_type": "markdown",
      "metadata": {
        "id": "Ua5Zm-aNvWDm"
      },
      "source": [
        "**Upsampling**\n",
        "\n",
        "\n",
        "Jest to proces zwiększania częstotliwości pobierania próbek, na przykład co tydzień do dnia. W poniższym przykładzie będziemy interpolować dane z miesiąca na dzień. Obiekt Series Pandas udostępnia funkcję interpolate () z ładnym wyborem prostych i bardziej złożonych metod. Tutaj używamy metody liniowej."
      ]
    },
    {
      "cell_type": "code",
      "metadata": {
        "id": "f_8cVcEnvj9O"
      },
      "source": [
        ""
      ],
      "execution_count": 48,
      "outputs": []
    },
    {
      "cell_type": "markdown",
      "metadata": {
        "id": "sMGJuyZTEoIF"
      },
      "source": [
        "Dane zawierają tylko pierwszy dzień danego miesiąca"
      ]
    },
    {
      "cell_type": "code",
      "metadata": {
        "colab": {
          "base_uri": "https://localhost:8080/"
        },
        "id": "efKcnsq2z8tM",
        "outputId": "98169a8f-99a3-4d97-a3ed-ce554680130a"
      },
      "source": [
        "# do utworzneia df (nie zwiaznae próbkowaniem)\n",
        "def parser(x):\n",
        "  return pd.datetime.strptime('190'+x, '%Y-%m')\n",
        "series = pd.read_csv('shampoo.csv', header=0, index_col=0, parse_dates=True, squeeze=True, date_parser=parser)\n",
        "series"
      ],
      "execution_count": 49,
      "outputs": [
        {
          "output_type": "execute_result",
          "data": {
            "text/plain": [
              "Month\n",
              "1901-01-01    266.0\n",
              "1901-02-01    145.9\n",
              "1901-03-01    183.1\n",
              "1901-04-01    119.3\n",
              "1901-05-01    180.3\n",
              "1901-06-01    168.5\n",
              "1901-07-01    231.8\n",
              "1901-08-01    224.5\n",
              "1901-09-01    192.8\n",
              "1901-10-01    122.9\n",
              "1901-11-01    336.5\n",
              "1901-12-01    185.9\n",
              "1902-01-01    194.3\n",
              "1902-02-01    149.5\n",
              "1902-03-01    210.1\n",
              "1902-04-01    273.3\n",
              "1902-05-01    191.4\n",
              "1902-06-01    287.0\n",
              "1902-07-01    226.0\n",
              "1902-08-01    303.6\n",
              "1902-09-01    289.9\n",
              "1902-10-01    421.6\n",
              "1902-11-01    264.5\n",
              "1902-12-01    342.3\n",
              "1903-01-01    339.7\n",
              "1903-02-01    440.4\n",
              "1903-03-01    315.9\n",
              "1903-04-01    439.3\n",
              "1903-05-01    401.3\n",
              "1903-06-01    437.4\n",
              "1903-07-01    575.5\n",
              "1903-08-01    407.6\n",
              "1903-09-01    682.0\n",
              "1903-10-01    475.3\n",
              "1903-11-01    581.3\n",
              "1903-12-01    646.9\n",
              "Name: Sales, dtype: float64"
            ]
          },
          "metadata": {
            "tags": []
          },
          "execution_count": 49
        }
      ]
    },
    {
      "cell_type": "code",
      "metadata": {
        "colab": {
          "base_uri": "https://localhost:8080/"
        },
        "id": "m9PE8M58FEaV",
        "outputId": "89600bf0-3c87-42fa-a754-c3f1bf22b475"
      },
      "source": [
        "series[\"1901-01\"]"
      ],
      "execution_count": 65,
      "outputs": [
        {
          "output_type": "execute_result",
          "data": {
            "text/plain": [
              "Month\n",
              "1901-01-01    266.0\n",
              "Name: Sales, dtype: float64"
            ]
          },
          "metadata": {
            "tags": []
          },
          "execution_count": 65
        }
      ]
    },
    {
      "cell_type": "code",
      "metadata": {
        "colab": {
          "base_uri": "https://localhost:8080/",
          "height": 294
        },
        "id": "uJs_JBkuE5UY",
        "outputId": "f4800433-e979-4e86-df90-bed3d54e33fe"
      },
      "source": [
        "series[\"1901-01\"].plot()"
      ],
      "execution_count": 64,
      "outputs": [
        {
          "output_type": "execute_result",
          "data": {
            "text/plain": [
              "<matplotlib.axes._subplots.AxesSubplot at 0x7fc43558d6d0>"
            ]
          },
          "metadata": {
            "tags": []
          },
          "execution_count": 64
        },
        {
          "output_type": "display_data",
          "data": {
            "image/png": "[encoded data removed]",
            "text/plain": [
              "<Figure size 432x288 with 1 Axes>"
            ]
          },
          "metadata": {
            "tags": [],
            "needs_background": "light"
          }
        }
      ]
    },
    {
      "cell_type": "code",
      "metadata": {
        "colab": {
          "base_uri": "https://localhost:8080/"
        },
        "id": "iMx9pbmwEhoM",
        "outputId": "36a6cfac-6b49-4c51-a779-17e05df25ae2"
      },
      "source": [
        "len(series)"
      ],
      "execution_count": 57,
      "outputs": [
        {
          "output_type": "execute_result",
          "data": {
            "text/plain": [
              "36"
            ]
          },
          "metadata": {
            "tags": []
          },
          "execution_count": 57
        }
      ]
    },
    {
      "cell_type": "code",
      "metadata": {
        "id": "3-Q0lwwPE2ZD"
      },
      "source": [
        "series"
      ],
      "execution_count": null,
      "outputs": []
    },
    {
      "cell_type": "code",
      "metadata": {
        "id": "LuL3Akpyw2y-"
      },
      "source": [
        "upsampled = series.resample('D').mean()"
      ],
      "execution_count": 51,
      "outputs": []
    },
    {
      "cell_type": "code",
      "metadata": {
        "colab": {
          "base_uri": "https://localhost:8080/"
        },
        "id": "aprvRP12y8JY",
        "outputId": "907b2502-0b37-4bc8-e624-db94ce22b4d3"
      },
      "source": [
        "interpolated = upsampled.interpolate(method='linear')\n",
        "interpolated.head(50)"
      ],
      "execution_count": 52,
      "outputs": [
        {
          "output_type": "execute_result",
          "data": {
            "text/plain": [
              "Month\n",
              "1901-01-01    266.000000\n",
              "1901-01-02    262.125806\n",
              "1901-01-03    258.251613\n",
              "1901-01-04    254.377419\n",
              "1901-01-05    250.503226\n",
              "1901-01-06    246.629032\n",
              "1901-01-07    242.754839\n",
              "1901-01-08    238.880645\n",
              "1901-01-09    235.006452\n",
              "1901-01-10    231.132258\n",
              "1901-01-11    227.258065\n",
              "1901-01-12    223.383871\n",
              "1901-01-13    219.509677\n",
              "1901-01-14    215.635484\n",
              "1901-01-15    211.761290\n",
              "1901-01-16    207.887097\n",
              "1901-01-17    204.012903\n",
              "1901-01-18    200.138710\n",
              "1901-01-19    196.264516\n",
              "1901-01-20    192.390323\n",
              "1901-01-21    188.516129\n",
              "1901-01-22    184.641935\n",
              "1901-01-23    180.767742\n",
              "1901-01-24    176.893548\n",
              "1901-01-25    173.019355\n",
              "1901-01-26    169.145161\n",
              "1901-01-27    165.270968\n",
              "1901-01-28    161.396774\n",
              "1901-01-29    157.522581\n",
              "1901-01-30    153.648387\n",
              "1901-01-31    149.774194\n",
              "1901-02-01    145.900000\n",
              "1901-02-02    147.228571\n",
              "1901-02-03    148.557143\n",
              "1901-02-04    149.885714\n",
              "1901-02-05    151.214286\n",
              "1901-02-06    152.542857\n",
              "1901-02-07    153.871429\n",
              "1901-02-08    155.200000\n",
              "1901-02-09    156.528571\n",
              "1901-02-10    157.857143\n",
              "1901-02-11    159.185714\n",
              "1901-02-12    160.514286\n",
              "1901-02-13    161.842857\n",
              "1901-02-14    163.171429\n",
              "1901-02-15    164.500000\n",
              "1901-02-16    165.828571\n",
              "1901-02-17    167.157143\n",
              "1901-02-18    168.485714\n",
              "1901-02-19    169.814286\n",
              "Freq: D, Name: Sales, dtype: float64"
            ]
          },
          "metadata": {
            "tags": []
          },
          "execution_count": 52
        }
      ]
    },
    {
      "cell_type": "code",
      "metadata": {
        "colab": {
          "base_uri": "https://localhost:8080/"
        },
        "id": "f62Zxi0RDcSy",
        "outputId": "6944230c-9a00-45c9-f8de-7d8ba5f00451"
      },
      "source": [
        "len(interpolated)"
      ],
      "execution_count": 58,
      "outputs": [
        {
          "output_type": "execute_result",
          "data": {
            "text/plain": [
              "1065"
            ]
          },
          "metadata": {
            "tags": []
          },
          "execution_count": 58
        }
      ]
    },
    {
      "cell_type": "code",
      "metadata": {
        "colab": {
          "base_uri": "https://localhost:8080/",
          "height": 308
        },
        "id": "jslDCcyyEK8d",
        "outputId": "2149d936-4139-4c51-ada7-c85a6b5e3181"
      },
      "source": [
        "#Plot linearly interpolated data\n",
        "interpolated.plot()"
      ],
      "execution_count": 59,
      "outputs": [
        {
          "output_type": "execute_result",
          "data": {
            "text/plain": [
              "<matplotlib.axes._subplots.AxesSubplot at 0x7fc43676f190>"
            ]
          },
          "metadata": {
            "tags": []
          },
          "execution_count": 59
        },
        {
          "output_type": "display_data",
          "data": {
            "image/png": "[encoded data removed]",
            "text/plain": [
              "<Figure size 432x288 with 1 Axes>"
            ]
          },
          "metadata": {
            "tags": [],
            "needs_background": "light"
          }
        }
      ]
    },
    {
      "cell_type": "code",
      "metadata": {
        "colab": {
          "base_uri": "https://localhost:8080/"
        },
        "id": "_DcnYB3GEMi7",
        "outputId": "436e3e16-959d-4f79-8d8a-b842ed1bf574"
      },
      "source": [
        "interpolated[\"1901-01\"]"
      ],
      "execution_count": 66,
      "outputs": [
        {
          "output_type": "execute_result",
          "data": {
            "text/plain": [
              "Month\n",
              "1901-01-01    266.000000\n",
              "1901-01-02    262.125806\n",
              "1901-01-03    258.251613\n",
              "1901-01-04    254.377419\n",
              "1901-01-05    250.503226\n",
              "1901-01-06    246.629032\n",
              "1901-01-07    242.754839\n",
              "1901-01-08    238.880645\n",
              "1901-01-09    235.006452\n",
              "1901-01-10    231.132258\n",
              "1901-01-11    227.258065\n",
              "1901-01-12    223.383871\n",
              "1901-01-13    219.509677\n",
              "1901-01-14    215.635484\n",
              "1901-01-15    211.761290\n",
              "1901-01-16    207.887097\n",
              "1901-01-17    204.012903\n",
              "1901-01-18    200.138710\n",
              "1901-01-19    196.264516\n",
              "1901-01-20    192.390323\n",
              "1901-01-21    188.516129\n",
              "1901-01-22    184.641935\n",
              "1901-01-23    180.767742\n",
              "1901-01-24    176.893548\n",
              "1901-01-25    173.019355\n",
              "1901-01-26    169.145161\n",
              "1901-01-27    165.270968\n",
              "1901-01-28    161.396774\n",
              "1901-01-29    157.522581\n",
              "1901-01-30    153.648387\n",
              "1901-01-31    149.774194\n",
              "Freq: D, Name: Sales, dtype: float64"
            ]
          },
          "metadata": {
            "tags": []
          },
          "execution_count": 66
        }
      ]
    },
    {
      "cell_type": "code",
      "metadata": {
        "colab": {
          "base_uri": "https://localhost:8080/",
          "height": 331
        },
        "id": "g_CQK6Q1FLY7",
        "outputId": "7e4a5655-c20e-4ebb-b107-aad196c54574"
      },
      "source": [
        "interpolated[\"1901-01\"].plot()"
      ],
      "execution_count": 67,
      "outputs": [
        {
          "output_type": "execute_result",
          "data": {
            "text/plain": [
              "<matplotlib.axes._subplots.AxesSubplot at 0x7fc435511490>"
            ]
          },
          "metadata": {
            "tags": []
          },
          "execution_count": 67
        },
        {
          "output_type": "display_data",
          "data": {
            "image/png": "[encoded data removed]",
            "text/plain": [
              "<Figure size 432x288 with 1 Axes>"
            ]
          },
          "metadata": {
            "tags": [],
            "needs_background": "light"
          }
        }
      ]
    },
    {
      "cell_type": "markdown",
      "metadata": {
        "id": "KQrPyojNFl2_"
      },
      "source": [
        "Możemy wypróbować inną popularną metodę interpolacji, tj. Wielomian lub splajn, aby połączyć wartości. Musimy określić liczbę wyrazów w wielomianu."
      ]
    },
    {
      "cell_type": "code",
      "metadata": {
        "colab": {
          "base_uri": "https://localhost:8080/"
        },
        "id": "_tpg4bCDFmOj",
        "outputId": "a276ca09-a986-43b2-f2d5-e6c0d774b995"
      },
      "source": [
        "# do utworzneia df (nie zwiaznae próbkowaniem)\n",
        "def parser(x):\n",
        "  return pd.datetime.strptime('190'+x, '%Y-%m')\n",
        "series = pd.read_csv('shampoo.csv', header=0, index_col=0, parse_dates=True, squeeze=True, date_parser=parser)\n",
        "series"
      ],
      "execution_count": 68,
      "outputs": [
        {
          "output_type": "execute_result",
          "data": {
            "text/plain": [
              "Month\n",
              "1901-01-01    266.0\n",
              "1901-02-01    145.9\n",
              "1901-03-01    183.1\n",
              "1901-04-01    119.3\n",
              "1901-05-01    180.3\n",
              "1901-06-01    168.5\n",
              "1901-07-01    231.8\n",
              "1901-08-01    224.5\n",
              "1901-09-01    192.8\n",
              "1901-10-01    122.9\n",
              "1901-11-01    336.5\n",
              "1901-12-01    185.9\n",
              "1902-01-01    194.3\n",
              "1902-02-01    149.5\n",
              "1902-03-01    210.1\n",
              "1902-04-01    273.3\n",
              "1902-05-01    191.4\n",
              "1902-06-01    287.0\n",
              "1902-07-01    226.0\n",
              "1902-08-01    303.6\n",
              "1902-09-01    289.9\n",
              "1902-10-01    421.6\n",
              "1902-11-01    264.5\n",
              "1902-12-01    342.3\n",
              "1903-01-01    339.7\n",
              "1903-02-01    440.4\n",
              "1903-03-01    315.9\n",
              "1903-04-01    439.3\n",
              "1903-05-01    401.3\n",
              "1903-06-01    437.4\n",
              "1903-07-01    575.5\n",
              "1903-08-01    407.6\n",
              "1903-09-01    682.0\n",
              "1903-10-01    475.3\n",
              "1903-11-01    581.3\n",
              "1903-12-01    646.9\n",
              "Name: Sales, dtype: float64"
            ]
          },
          "metadata": {
            "tags": []
          },
          "execution_count": 68
        }
      ]
    },
    {
      "cell_type": "code",
      "metadata": {
        "id": "tItVf6CxFsaq"
      },
      "source": [
        "upsampled = series.resample('D').mean()\n",
        "interpolated = upsampled.interpolate(method='spline', order=2)"
      ],
      "execution_count": 71,
      "outputs": []
    },
    {
      "cell_type": "code",
      "metadata": {
        "colab": {
          "base_uri": "https://localhost:8080/"
        },
        "id": "mBCbZKb3FtzM",
        "outputId": "bede1dea-18a9-4b48-b1ac-728befb2cf7e"
      },
      "source": [
        "interpolated.head(31)"
      ],
      "execution_count": 72,
      "outputs": [
        {
          "output_type": "execute_result",
          "data": {
            "text/plain": [
              "Month\n",
              "1901-01-01    266.000000\n",
              "1901-01-02    258.630160\n",
              "1901-01-03    251.560886\n",
              "1901-01-04    244.720748\n",
              "1901-01-05    238.109746\n",
              "1901-01-06    231.727880\n",
              "1901-01-07    225.575149\n",
              "1901-01-08    219.651553\n",
              "1901-01-09    213.957094\n",
              "1901-01-10    208.491770\n",
              "1901-01-11    203.255582\n",
              "1901-01-12    198.248529\n",
              "1901-01-13    193.470612\n",
              "1901-01-14    188.921831\n",
              "1901-01-15    184.602185\n",
              "1901-01-16    180.511676\n",
              "1901-01-17    176.650301\n",
              "1901-01-18    173.018063\n",
              "1901-01-19    169.614960\n",
              "1901-01-20    166.440993\n",
              "1901-01-21    163.496161\n",
              "1901-01-22    160.780465\n",
              "1901-01-23    158.293905\n",
              "1901-01-24    156.036481\n",
              "1901-01-25    154.008192\n",
              "1901-01-26    152.209039\n",
              "1901-01-27    150.639021\n",
              "1901-01-28    149.298139\n",
              "1901-01-29    148.186393\n",
              "1901-01-30    147.303783\n",
              "1901-01-31    146.650308\n",
              "Freq: D, Name: Sales, dtype: float64"
            ]
          },
          "metadata": {
            "tags": []
          },
          "execution_count": 72
        }
      ]
    },
    {
      "cell_type": "code",
      "metadata": {
        "colab": {
          "base_uri": "https://localhost:8080/",
          "height": 308
        },
        "id": "EhgYhNrNFuzp",
        "outputId": "a1571d4a-85ca-40ed-f676-c2d50b5455ab"
      },
      "source": [
        "interpolated.plot()"
      ],
      "execution_count": 73,
      "outputs": [
        {
          "output_type": "execute_result",
          "data": {
            "text/plain": [
              "<matplotlib.axes._subplots.AxesSubplot at 0x7fc43560bc10>"
            ]
          },
          "metadata": {
            "tags": []
          },
          "execution_count": 73
        },
        {
          "output_type": "display_data",
          "data": {
            "image/png": "[encoded data removed]",
            "text/plain": [
              "<Figure size 432x288 with 1 Axes>"
            ]
          },
          "metadata": {
            "tags": [],
            "needs_background": "light"
          }
        }
      ]
    },
    {
      "cell_type": "code",
      "metadata": {
        "id": "GhTyxdhMFxAK"
      },
      "source": [
        ""
      ],
      "execution_count": null,
      "outputs": []
    },
    {
      "cell_type": "markdown",
      "metadata": {
        "id": "9uSzVaGGF65R"
      },
      "source": [
        "Downsampling\n",
        "\n",
        "Zmniejsz częstotliwość próbek, na przykład codziennie lub co tydzień. Dane o sprzedaży są miesięczne, ale biznes potrzebuje prognoz kwartalnych. Przeprowadźmy ponowne próbkowanie danych zgodnie z potrzebami biznesowymi"
      ]
    },
    {
      "cell_type": "code",
      "metadata": {
        "colab": {
          "base_uri": "https://localhost:8080/"
        },
        "id": "FOw7UVF0GDPr",
        "outputId": "221875f3-51ca-47d4-8d6b-ecef7980b0b8"
      },
      "source": [
        "# do utworzneia df (nie zwiaznae próbkowaniem)\n",
        "def parser(x):\n",
        "  return pd.datetime.strptime('190'+x, '%Y-%m')\n",
        "series = pd.read_csv('shampoo.csv', header=0, index_col=0, parse_dates=True, squeeze=True, date_parser=parser)\n",
        "series[:3]"
      ],
      "execution_count": 75,
      "outputs": [
        {
          "output_type": "execute_result",
          "data": {
            "text/plain": [
              "Month\n",
              "1901-01-01    266.0\n",
              "1901-02-01    145.9\n",
              "1901-03-01    183.1\n",
              "Name: Sales, dtype: float64"
            ]
          },
          "metadata": {
            "tags": []
          },
          "execution_count": 75
        }
      ]
    },
    {
      "cell_type": "code",
      "metadata": {
        "id": "FsR9D-GQGKFX"
      },
      "source": [
        "resample = series.resample('Q')\n",
        "quarterly_mean_sales = resample.mean()"
      ],
      "execution_count": 76,
      "outputs": []
    },
    {
      "cell_type": "code",
      "metadata": {
        "colab": {
          "base_uri": "https://localhost:8080/"
        },
        "id": "_QVbgi8JGPek",
        "outputId": "e3be437b-9d91-4dd6-fd1a-05de65565841"
      },
      "source": [
        "quarterly_mean_sales.head()"
      ],
      "execution_count": 77,
      "outputs": [
        {
          "output_type": "execute_result",
          "data": {
            "text/plain": [
              "Month\n",
              "1901-03-31    198.333333\n",
              "1901-06-30    156.033333\n",
              "1901-09-30    216.366667\n",
              "1901-12-31    215.100000\n",
              "1902-03-31    184.633333\n",
              "Freq: Q-DEC, Name: Sales, dtype: float64"
            ]
          },
          "metadata": {
            "tags": []
          },
          "execution_count": 77
        }
      ]
    },
    {
      "cell_type": "code",
      "metadata": {
        "colab": {
          "base_uri": "https://localhost:8080/",
          "height": 199
        },
        "id": "9j2rbL4DGQQb",
        "outputId": "85cee06e-20e4-458c-bec7-b7f3a1ff7178"
      },
      "source": [
        "quarterly_mean_sales.plot(figsize=(15,2))"
      ],
      "execution_count": 79,
      "outputs": [
        {
          "output_type": "execute_result",
          "data": {
            "text/plain": [
              "<matplotlib.axes._subplots.AxesSubplot at 0x7fc42ae313d0>"
            ]
          },
          "metadata": {
            "tags": []
          },
          "execution_count": 79
        },
        {
          "output_type": "display_data",
          "data": {
            "image/png": "[encoded data removed]",
            "text/plain": [
              "<Figure size 1080x144 with 1 Axes>"
            ]
          },
          "metadata": {
            "tags": [],
            "needs_background": "light"
          }
        }
      ]
    },
    {
      "cell_type": "code",
      "metadata": {
        "id": "KM4ZlbYXPLJO"
      },
      "source": [
        ""
      ],
      "execution_count": null,
      "outputs": []
    }
  ]
}